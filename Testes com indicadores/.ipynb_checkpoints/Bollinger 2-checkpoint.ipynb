{
 "cells": [
  {
   "cell_type": "code",
   "execution_count": 4,
   "id": "da05069f",
   "metadata": {},
   "outputs": [],
   "source": [
    "import yfinance as yf\n",
    "import pandas as pd\n",
    "import numpy as np"
   ]
  },
  {
   "cell_type": "code",
   "execution_count": null,
   "id": "3bb9e0b5",
   "metadata": {},
   "outputs": [],
   "source": []
  },
  {
   "cell_type": "code",
   "execution_count": 5,
   "id": "07f62a6e",
   "metadata": {},
   "outputs": [],
   "source": [
    "acao = yf.Ticker(\"ITUB4.SA\")\n",
    "data = acao.history(period='1y')\n",
    "df = data[[\"Close\"]]"
   ]
  },
  {
   "cell_type": "code",
   "execution_count": null,
   "id": "99fe99ce",
   "metadata": {},
   "outputs": [],
   "source": []
  },
  {
   "cell_type": "code",
   "execution_count": 7,
   "id": "73fb3ec5",
   "metadata": {},
   "outputs": [],
   "source": [
    "mm = df.rolling(20).mean()\n",
    "std = df.rolling(20).std()"
   ]
  },
  {
   "cell_type": "code",
   "execution_count": 8,
   "id": "291ce01a",
   "metadata": {},
   "outputs": [],
   "source": [
    "sup_band = mm + 2* std\n",
    "inf_band = mm - 2* std"
   ]
  },
  {
   "cell_type": "code",
   "execution_count": 12,
   "id": "d2caf255",
   "metadata": {},
   "outputs": [],
   "source": [
    "sup_band = sup_band.rename(columns={\"Close\":\"Superior\"})\n",
    "inf_band = inf_band.rename(columns={\"Close\":\"Inferior\"})"
   ]
  },
  {
   "cell_type": "code",
   "execution_count": 13,
   "id": "6502e81e",
   "metadata": {},
   "outputs": [],
   "source": [
    "bandas_bollinger = df.join(sup_band).join(inf_band)"
   ]
  },
  {
   "cell_type": "code",
   "execution_count": 14,
   "id": "9bae49a8",
   "metadata": {},
   "outputs": [
    {
     "data": {
      "text/html": [
       "<div>\n",
       "<style scoped>\n",
       "    .dataframe tbody tr th:only-of-type {\n",
       "        vertical-align: middle;\n",
       "    }\n",
       "\n",
       "    .dataframe tbody tr th {\n",
       "        vertical-align: top;\n",
       "    }\n",
       "\n",
       "    .dataframe thead th {\n",
       "        text-align: right;\n",
       "    }\n",
       "</style>\n",
       "<table border=\"1\" class=\"dataframe\">\n",
       "  <thead>\n",
       "    <tr style=\"text-align: right;\">\n",
       "      <th></th>\n",
       "      <th>Close</th>\n",
       "      <th>Superior</th>\n",
       "      <th>Inferior</th>\n",
       "    </tr>\n",
       "    <tr>\n",
       "      <th>Date</th>\n",
       "      <th></th>\n",
       "      <th></th>\n",
       "      <th></th>\n",
       "    </tr>\n",
       "  </thead>\n",
       "  <tbody>\n",
       "    <tr>\n",
       "      <th>2021-11-01 00:00:00-03:00</th>\n",
       "      <td>23.434345</td>\n",
       "      <td>NaN</td>\n",
       "      <td>NaN</td>\n",
       "    </tr>\n",
       "    <tr>\n",
       "      <th>2021-11-03 00:00:00-03:00</th>\n",
       "      <td>23.656881</td>\n",
       "      <td>NaN</td>\n",
       "      <td>NaN</td>\n",
       "    </tr>\n",
       "    <tr>\n",
       "      <th>2021-11-04 00:00:00-03:00</th>\n",
       "      <td>22.408726</td>\n",
       "      <td>NaN</td>\n",
       "      <td>NaN</td>\n",
       "    </tr>\n",
       "    <tr>\n",
       "      <th>2021-11-05 00:00:00-03:00</th>\n",
       "      <td>22.137812</td>\n",
       "      <td>NaN</td>\n",
       "      <td>NaN</td>\n",
       "    </tr>\n",
       "    <tr>\n",
       "      <th>2021-11-08 00:00:00-03:00</th>\n",
       "      <td>22.021704</td>\n",
       "      <td>NaN</td>\n",
       "      <td>NaN</td>\n",
       "    </tr>\n",
       "    <tr>\n",
       "      <th>...</th>\n",
       "      <td>...</td>\n",
       "      <td>...</td>\n",
       "      <td>...</td>\n",
       "    </tr>\n",
       "    <tr>\n",
       "      <th>2022-10-26 00:00:00-03:00</th>\n",
       "      <td>28.763290</td>\n",
       "      <td>30.796785</td>\n",
       "      <td>27.522082</td>\n",
       "    </tr>\n",
       "    <tr>\n",
       "      <th>2022-10-27 00:00:00-03:00</th>\n",
       "      <td>29.292982</td>\n",
       "      <td>30.685465</td>\n",
       "      <td>27.814028</td>\n",
       "    </tr>\n",
       "    <tr>\n",
       "      <th>2022-10-28 00:00:00-03:00</th>\n",
       "      <td>29.522850</td>\n",
       "      <td>30.620826</td>\n",
       "      <td>28.041329</td>\n",
       "    </tr>\n",
       "    <tr>\n",
       "      <th>2022-10-31 00:00:00-03:00</th>\n",
       "      <td>30.382349</td>\n",
       "      <td>30.665091</td>\n",
       "      <td>28.232693</td>\n",
       "    </tr>\n",
       "    <tr>\n",
       "      <th>2022-11-01 00:00:00-03:00</th>\n",
       "      <td>NaN</td>\n",
       "      <td>NaN</td>\n",
       "      <td>NaN</td>\n",
       "    </tr>\n",
       "  </tbody>\n",
       "</table>\n",
       "<p>251 rows × 3 columns</p>\n",
       "</div>"
      ],
      "text/plain": [
       "                               Close   Superior   Inferior\n",
       "Date                                                      \n",
       "2021-11-01 00:00:00-03:00  23.434345        NaN        NaN\n",
       "2021-11-03 00:00:00-03:00  23.656881        NaN        NaN\n",
       "2021-11-04 00:00:00-03:00  22.408726        NaN        NaN\n",
       "2021-11-05 00:00:00-03:00  22.137812        NaN        NaN\n",
       "2021-11-08 00:00:00-03:00  22.021704        NaN        NaN\n",
       "...                              ...        ...        ...\n",
       "2022-10-26 00:00:00-03:00  28.763290  30.796785  27.522082\n",
       "2022-10-27 00:00:00-03:00  29.292982  30.685465  27.814028\n",
       "2022-10-28 00:00:00-03:00  29.522850  30.620826  28.041329\n",
       "2022-10-31 00:00:00-03:00  30.382349  30.665091  28.232693\n",
       "2022-11-01 00:00:00-03:00        NaN        NaN        NaN\n",
       "\n",
       "[251 rows x 3 columns]"
      ]
     },
     "execution_count": 14,
     "metadata": {},
     "output_type": "execute_result"
    }
   ],
   "source": [
    "bandas_bollinger"
   ]
  },
  {
   "cell_type": "code",
   "execution_count": 15,
   "id": "40f8dd64",
   "metadata": {},
   "outputs": [],
   "source": [
    "bandas_bollinger.dropna(inplace=True)"
   ]
  },
  {
   "cell_type": "code",
   "execution_count": null,
   "id": "750839e2",
   "metadata": {},
   "outputs": [],
   "source": [
    "compras = bandas_bollinger[bandas_bollinger[\"Close\"]<=bandas_bollinger[\"Inferior\"]]\n",
    "vendas = bandas_bollinger[bandas_bollinger[\"Close\"]>=bandas_bollinger[\"Superior\"]]"
   ]
  },
  {
   "cell_type": "code",
   "execution_count": null,
   "id": "b088f4c2",
   "metadata": {},
   "outputs": [],
   "source": []
  },
  {
   "cell_type": "code",
   "execution_count": null,
   "id": "9fa34748",
   "metadata": {},
   "outputs": [],
   "source": []
  },
  {
   "cell_type": "code",
   "execution_count": null,
   "id": "473d3572",
   "metadata": {},
   "outputs": [],
   "source": []
  },
  {
   "cell_type": "code",
   "execution_count": null,
   "id": "86535c07",
   "metadata": {},
   "outputs": [],
   "source": []
  }
 ],
 "metadata": {
  "kernelspec": {
   "display_name": "Python 3 (ipykernel)",
   "language": "python",
   "name": "python3"
  },
  "language_info": {
   "codemirror_mode": {
    "name": "ipython",
    "version": 3
   },
   "file_extension": ".py",
   "mimetype": "text/x-python",
   "name": "python",
   "nbconvert_exporter": "python",
   "pygments_lexer": "ipython3",
   "version": "3.8.10"
  }
 },
 "nbformat": 4,
 "nbformat_minor": 5
}
