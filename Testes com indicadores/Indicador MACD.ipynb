{
 "cells": [
  {
   "cell_type": "code",
   "execution_count": 28,
   "id": "2a68bd06",
   "metadata": {},
   "outputs": [],
   "source": [
    "from stock_indicators import indicators\n",
    "from stock_indicators import Quote\n",
    "import yfinance as yf\n",
    "import plotly.express as px\n",
    "import plotly.graph_objects as go\n",
    "import pandas as pd\n",
    "import ta as ta\n",
    "from ta import add_all_ta_features\n",
    "from ta.utils import dropna\n",
    "from datetime import datetime\n",
    "import math"
   ]
  },
  {
   "cell_type": "code",
   "execution_count": null,
   "id": "5857830f",
   "metadata": {},
   "outputs": [],
   "source": []
  },
  {
   "cell_type": "code",
   "execution_count": 36,
   "id": "7207acce",
   "metadata": {},
   "outputs": [
    {
     "name": "stdout",
     "output_type": "stream",
     "text": [
      "[*********************100%***********************]  1 of 1 completed\n"
     ]
    }
   ],
   "source": [
    "ticker =\"PETR3.SA\"\n",
    "\n",
    "#df = yf.download(ticker,period=\"1y\", interval=\"90m\")\n",
    "df = yf.download(ticker)\n",
    "df=df[\"2010\":]"
   ]
  },
  {
   "cell_type": "code",
   "execution_count": null,
   "id": "3cb6222d",
   "metadata": {},
   "outputs": [],
   "source": []
  },
  {
   "cell_type": "code",
   "execution_count": 37,
   "id": "3c26fd03",
   "metadata": {},
   "outputs": [],
   "source": [
    "resultados_macd = ta.trend.MACD(df[\"Close\"],12,26,9,False)\n",
    "\n",
    "\n",
    "macd_list = list()\n",
    "macd_diff = list()\n",
    "macd_signal = list()\n",
    "\n",
    "i=0\n",
    "while i < len(resultados_macd.macd()):\n",
    "\n",
    "    if(resultados_macd.macd()[i]!=None):\n",
    "        macd_list.append(resultados_macd.macd()[i])\n",
    "\n",
    "    i+=1\n",
    "\n",
    "i=0\n",
    "while i < len(resultados_macd.macd_diff()):\n",
    "\n",
    "    if(resultados_macd.macd_diff()[i]!=None):\n",
    "        macd_diff.append(resultados_macd.macd_diff()[i])\n",
    "\n",
    "    i+=1\n",
    "\n",
    "\n",
    "i=0\n",
    "while i < len(resultados_macd.macd_signal()):\n",
    "\n",
    "    if(resultados_macd.macd_signal()[i]!=None):\n",
    "        macd_signal.append(resultados_macd.macd_signal()[i])\n",
    "\n",
    "    i+=1"
   ]
  },
  {
   "cell_type": "code",
   "execution_count": null,
   "id": "77d03e9c",
   "metadata": {},
   "outputs": [],
   "source": []
  },
  {
   "cell_type": "code",
   "execution_count": 38,
   "id": "bc88981a",
   "metadata": {},
   "outputs": [],
   "source": [
    "hist_pos = list()\n",
    "hist_neg = list()\n",
    "\n",
    "neg = 0\n",
    "pos = 0\n",
    "\n",
    "i=0\n",
    "while i<len(macd_diff):\n",
    "    \n",
    "    if not math.isnan(macd_diff[i]):\n",
    "        if macd_diff[i] > 0:\n",
    "\n",
    "            if pos!=0:\n",
    "                hist_pos.append(pos)\n",
    "            pos=0\n",
    "            neg+=1\n",
    "\n",
    "        else:\n",
    "\n",
    "            if neg!=0:\n",
    "                hist_neg.append(neg)\n",
    "            neg=0\n",
    "            pos+=1\n",
    "            \n",
    "    i+=1"
   ]
  },
  {
   "cell_type": "code",
   "execution_count": null,
   "id": "e223898d",
   "metadata": {},
   "outputs": [],
   "source": []
  },
  {
   "cell_type": "code",
   "execution_count": 40,
   "id": "50b96f58",
   "metadata": {},
   "outputs": [
    {
     "data": {
      "text/plain": [
       "113"
      ]
     },
     "execution_count": 40,
     "metadata": {},
     "output_type": "execute_result"
    }
   ],
   "source": [
    "len(hist_pos)"
   ]
  },
  {
   "cell_type": "code",
   "execution_count": 41,
   "id": "1f4d01cc",
   "metadata": {},
   "outputs": [
    {
     "data": {
      "text/plain": [
       "113"
      ]
     },
     "execution_count": 41,
     "metadata": {},
     "output_type": "execute_result"
    }
   ],
   "source": [
    "len(hist_neg)"
   ]
  }
 ],
 "metadata": {
  "kernelspec": {
   "display_name": "Python 3 (ipykernel)",
   "language": "python",
   "name": "python3"
  },
  "language_info": {
   "codemirror_mode": {
    "name": "ipython",
    "version": 3
   },
   "file_extension": ".py",
   "mimetype": "text/x-python",
   "name": "python",
   "nbconvert_exporter": "python",
   "pygments_lexer": "ipython3",
   "version": "3.10.4"
  }
 },
 "nbformat": 4,
 "nbformat_minor": 5
}
